{
 "cells": [
  {
   "cell_type": "markdown",
   "id": "f1fc027e-138c-49f8-8993-593a810bb049",
   "metadata": {
    "jp-MarkdownHeadingCollapsed": true,
    "tags": []
   },
   "source": [
    "# Q1. What is an Exception in python? Write the difference between Exceptions and syntax errors."
   ]
  },
  {
   "cell_type": "markdown",
   "id": "c38e58fb-69da-40b5-880d-e71c7d252154",
   "metadata": {},
   "source": [
    "An exception in Python is an event that occurs during the execution of a program, which disrupts the normal flow of the program's instructions. When an exception occurs, the program stops executing its current instructions and jumps to a specific block of code known as an exception handler.\n",
    "\n",
    "The differences between exceptions and syntax errors are as follows:\n",
    "\n",
    "1. Exceptions: Exceptions are raised during the execution of a program when an error or an exceptional condition occurs. They can be caused by various reasons such as invalid input, division by zero, or file not found. Exceptions are handled using try-except blocks, allowing the program to gracefully handle errors and continue executing.\n",
    "\n",
    "2. Syntax Errors: Syntax errors, also known as parsing errors, occur when the Python interpreter encounters code that violates the language's syntax rules. These errors are typically caused by mistakes in the code structure, such as missing parentheses, incorrect indentation, or improper use of operators. Syntax errors prevent the program from running altogether and must be fixed before execution.\n",
    "\n",
    "In summary, exceptions are runtime errors that occur during program execution, while syntax errors are detected by the Python interpreter during the parsing phase before the program is executed. Exceptions can be handled and recovered from using try-except blocks, whereas syntax errors require fixing the code itself to make it valid Python syntax."
   ]
  },
  {
   "cell_type": "markdown",
   "id": "b901b30c-0d49-4106-bbbb-6bf051002f5c",
   "metadata": {
    "jp-MarkdownHeadingCollapsed": true,
    "tags": []
   },
   "source": [
    "# Q2. What happens when an exception is not handled? Explain with an example."
   ]
  },
  {
   "cell_type": "markdown",
   "id": "c22d4d7c-2e59-4bcd-a63c-59bd81c92b9f",
   "metadata": {},
   "source": [
    "When an exception is not handled in Python, it leads to the termination of the program and displays an error message called a traceback. The traceback provides information about the exception that occurred, including the type of exception, the line of code where the exception was raised, and the sequence of function calls that led to the exception."
   ]
  },
  {
   "cell_type": "code",
   "execution_count": 5,
   "id": "3f5e3543-ea57-4e23-bac9-012da4ebc249",
   "metadata": {},
   "outputs": [
    {
     "ename": "ZeroDivisionError",
     "evalue": "division by zero",
     "output_type": "error",
     "traceback": [
      "\u001b[0;31m---------------------------------------------------------------------------\u001b[0m",
      "\u001b[0;31mZeroDivisionError\u001b[0m                         Traceback (most recent call last)",
      "Cell \u001b[0;32mIn[5], line 7\u001b[0m\n\u001b[1;32m      4\u001b[0m num1 \u001b[38;5;241m=\u001b[39m \u001b[38;5;241m10\u001b[39m\n\u001b[1;32m      5\u001b[0m num2 \u001b[38;5;241m=\u001b[39m \u001b[38;5;241m0\u001b[39m\n\u001b[0;32m----> 7\u001b[0m result \u001b[38;5;241m=\u001b[39m \u001b[43mdivide_numbers\u001b[49m\u001b[43m(\u001b[49m\u001b[43mnum1\u001b[49m\u001b[43m,\u001b[49m\u001b[43m \u001b[49m\u001b[43mnum2\u001b[49m\u001b[43m)\u001b[49m\n\u001b[1;32m      8\u001b[0m \u001b[38;5;28mprint\u001b[39m(result)\n",
      "Cell \u001b[0;32mIn[5], line 2\u001b[0m, in \u001b[0;36mdivide_numbers\u001b[0;34m(a, b)\u001b[0m\n\u001b[1;32m      1\u001b[0m \u001b[38;5;28;01mdef\u001b[39;00m \u001b[38;5;21mdivide_numbers\u001b[39m(a, b):\n\u001b[0;32m----> 2\u001b[0m     \u001b[38;5;28;01mreturn\u001b[39;00m \u001b[43ma\u001b[49m\u001b[43m \u001b[49m\u001b[38;5;241;43m/\u001b[39;49m\u001b[43m \u001b[49m\u001b[43mb\u001b[49m\n",
      "\u001b[0;31mZeroDivisionError\u001b[0m: division by zero"
     ]
    }
   ],
   "source": [
    "def divide_numbers(a, b):\n",
    "    return a / b\n",
    "\n",
    "num1 = 10\n",
    "num2 = 0\n",
    "\n",
    "result = divide_numbers(num1, num2)\n",
    "print(result)\n"
   ]
  },
  {
   "cell_type": "markdown",
   "id": "b0b039d8-9872-4fb9-9607-2789367a1215",
   "metadata": {
    "jp-MarkdownHeadingCollapsed": true,
    "tags": []
   },
   "source": [
    "# Q3.which python statements are used to catch and handle execeptions? explain with an example."
   ]
  },
  {
   "cell_type": "markdown",
   "id": "6aef6499-83cd-45ee-ba76-897dd6d1300a",
   "metadata": {},
   "source": [
    "In Python, the try-except statements are used to catch and handle exceptions. The try block contains the code that might raise an exception, and the except block specifies the code to be executed when a specific exception occurs.\n",
    "\n"
   ]
  },
  {
   "cell_type": "code",
   "execution_count": 10,
   "id": "1bfb88f8-f243-4421-8c55-69b704e1e942",
   "metadata": {},
   "outputs": [
    {
     "name": "stdout",
     "output_type": "stream",
     "text": [
      "The result of division is: 5.0\n",
      "Error: Division by zero is not allowed.\n"
     ]
    }
   ],
   "source": [
    "def divide_numbers(a, b):\n",
    "    try:\n",
    "        result = a / b\n",
    "        print(\"The result of division is:\", result)\n",
    "    except ZeroDivisionError:\n",
    "        print(\"Error: Division by zero is not allowed.\")\n",
    "\n",
    "# Example 1: Division by a non-zero number\n",
    "divide_numbers(10, 2)\n",
    "\n",
    "# Example 2: Division by zero\n",
    "divide_numbers(10, 0)\n"
   ]
  },
  {
   "cell_type": "markdown",
   "id": "00eb55e0-ee37-499f-828e-0365de8590da",
   "metadata": {
    "jp-MarkdownHeadingCollapsed": true,
    "tags": []
   },
   "source": [
    "# Q4.Explain with an example:\n",
    "\n",
    "a.try and else\n",
    "b.finally\n",
    "c.raise"
   ]
  },
  {
   "cell_type": "markdown",
   "id": "338898dd-5656-4b3d-b35e-a6409270d5df",
   "metadata": {},
   "source": [
    "In Python, the try-except-else-finally statement provides a more comprehensive way to handle exceptions. It allows you to specify additional blocks of code to be executed in different scenarios, including when no exception occurs (else block) and regardless of whether an exception occurs or not (finally block)."
   ]
  },
  {
   "cell_type": "code",
   "execution_count": 11,
   "id": "2fef6f7f-f944-4f56-95e5-6903da085873",
   "metadata": {},
   "outputs": [
    {
     "name": "stdout",
     "output_type": "stream",
     "text": [
      "The result of division is: 5.0\n",
      "Division operation completed.\n",
      "Error: Division by zero is not allowed.\n",
      "Division operation completed.\n"
     ]
    }
   ],
   "source": [
    "def divide_numbers(a, b):\n",
    "    try:\n",
    "        result = a / b\n",
    "    except ZeroDivisionError:\n",
    "        print(\"Error: Division by zero is not allowed.\")\n",
    "    else:\n",
    "        print(\"The result of division is:\", result)\n",
    "    finally:\n",
    "        print(\"Division operation completed.\")\n",
    "\n",
    "# Example 1: Division by a non-zero number\n",
    "divide_numbers(10, 2)\n",
    "\n",
    "# Example 2: Division by zero\n",
    "divide_numbers(10, 0)\n"
   ]
  },
  {
   "cell_type": "markdown",
   "id": "c35e172b-e306-4ccb-ab9c-bef976de2029",
   "metadata": {
    "jp-MarkdownHeadingCollapsed": true,
    "tags": []
   },
   "source": [
    "# Q5.what are custom Exceptions in python ? why do we need custom exceptions? explain with an example."
   ]
  },
  {
   "cell_type": "markdown",
   "id": "77a82600-96bc-4736-b465-afbb663b8638",
   "metadata": {},
   "source": [
    "Specific Error Conditions: Custom exceptions allow you to define exception types that are specific to your program's logic or domain. This helps in distinguishing different types of errors and handling them accordingly. By defining custom exceptions, you can provide more detailed information about the error condition and make your code more expressive and self-explanatory.\n",
    "\n",
    "Code Organization: Custom exceptions can help in organizing and categorizing different types of errors in your codebase. By creating a hierarchy of custom exceptions, you can group related errors under a common base exception and provide specialized exceptions for specific error scenarios. This makes it easier to handle different types of exceptions and improves the overall readability and maintainability of your code.\n",
    "\n"
   ]
  },
  {
   "cell_type": "code",
   "execution_count": 12,
   "id": "cd96d4f9-7a76-4472-8ab6-ffb20f5a7fdf",
   "metadata": {},
   "outputs": [
    {
     "name": "stdout",
     "output_type": "stream",
     "text": [
      "Insufficient funds to withdraw.\n"
     ]
    }
   ],
   "source": [
    "class InsufficientFundsError(Exception):\n",
    "    pass\n",
    "\n",
    "def withdraw(amount, balance):\n",
    "    if amount > balance:\n",
    "        raise InsufficientFundsError(\"Insufficient funds to withdraw.\")\n",
    "    else:\n",
    "        print(\"Withdrawal successful.\")\n",
    "\n",
    "try:\n",
    "    withdraw(1000, 500)\n",
    "except InsufficientFundsError as e:\n",
    "    print(str(e))\n"
   ]
  },
  {
   "cell_type": "markdown",
   "id": "33c5e697-0ab0-4185-8467-d511cdef05f0",
   "metadata": {
    "jp-MarkdownHeadingCollapsed": true,
    "tags": []
   },
   "source": [
    "# Q6.create a custom exception class. use this class to handle an exception."
   ]
  },
  {
   "cell_type": "code",
   "execution_count": 13,
   "id": "25f026bc-52b4-4254-b5bd-696a6d974f12",
   "metadata": {},
   "outputs": [
    {
     "name": "stdout",
     "output_type": "stream",
     "text": [
      "Custom Exception: Division by zero is not allowed.\n"
     ]
    }
   ],
   "source": [
    "class CustomException(Exception):\n",
    "    def __init__(self, message):\n",
    "        self.message = message\n",
    "\n",
    "def divide_numbers(a, b):\n",
    "    try:\n",
    "        if b == 0:\n",
    "            raise CustomException(\"Division by zero is not allowed.\")\n",
    "        else:\n",
    "            result = a / b\n",
    "            print(\"The result of division is:\", result)\n",
    "    except CustomException as e:\n",
    "        print(\"Custom Exception:\", e.message)\n",
    "\n",
    "# Example: Division by zero\n",
    "divide_numbers(10, 0)\n"
   ]
  },
  {
   "cell_type": "code",
   "execution_count": null,
   "id": "e41828e0-6ba9-4ea0-bdb8-f5c14369f1b4",
   "metadata": {},
   "outputs": [],
   "source": []
  }
 ],
 "metadata": {
  "kernelspec": {
   "display_name": "Python 3 (ipykernel)",
   "language": "python",
   "name": "python3"
  },
  "language_info": {
   "codemirror_mode": {
    "name": "ipython",
    "version": 3
   },
   "file_extension": ".py",
   "mimetype": "text/x-python",
   "name": "python",
   "nbconvert_exporter": "python",
   "pygments_lexer": "ipython3",
   "version": "3.10.8"
  }
 },
 "nbformat": 4,
 "nbformat_minor": 5
}
